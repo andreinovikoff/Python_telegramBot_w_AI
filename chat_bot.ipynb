{
 "cells": [
  {
   "cell_type": "code",
   "execution_count": 1,
   "metadata": {},
   "outputs": [],
   "source": [
    "import random\n",
    "import nltk\n",
    "from sklearn.feature_extraction.text import TfidfVectorizer\n",
    "from sklearn.svm import SVC\n",
    "from sklearn.linear_model import LogisticRegression\n",
    "from sklearn.model_selection import train_test_split\n",
    "import ast"
   ]
  },
  {
   "cell_type": "code",
   "execution_count": 2,
   "metadata": {},
   "outputs": [],
   "source": [
    "BOT_CONFIG = {}\n",
    "\n",
    "with open('config.txt', 'r') as f:\n",
    "    content = f.read()\n",
    "    BOT_CONFIG = ast.literal_eval(content)"
   ]
  },
  {
   "cell_type": "code",
   "execution_count": 3,
   "metadata": {},
   "outputs": [],
   "source": [
    "# dataset = [['Привет', 'hello'], ['здарова', 'hello'], ..., ['Пока', 'bye'], ...]\n",
    "dataset = []\n",
    "\n",
    "for intent, intent_data in BOT_CONFIG['intents'].items():\n",
    "    for example in intent_data['examples']:\n",
    "        dataset.append([example, intent])\n",
    "\n",
    "corpus = [text for text, intent in dataset]\n",
    "y = [intent for text, intent in dataset]"
   ]
  },
  {
   "cell_type": "code",
   "execution_count": 4,
   "metadata": {},
   "outputs": [],
   "source": [
    "from sklearn.feature_extraction.text import TfidfVectorizer\n",
    "vectorizer = TfidfVectorizer(analyzer='char', ngram_range=(2, 3))\n",
    "X = vectorizer.fit_transform(corpus)"
   ]
  },
  {
   "cell_type": "code",
   "execution_count": 5,
   "metadata": {},
   "outputs": [
    {
     "output_type": "execute_result",
     "data": {
      "text/plain": [
       "SVC(probability=True)"
      ]
     },
     "metadata": {},
     "execution_count": 5
    }
   ],
   "source": [
    "from sklearn.linear_model import LogisticRegression\n",
    "from sklearn.svm import SVC\n",
    "clf = SVC(probability=True)\n",
    "X_train, X_test, y_train, y_test = train_test_split(X, y, test_size=0.2)\n",
    "clf.fit(X_train, y_train)"
   ]
  },
  {
   "cell_type": "code",
   "execution_count": 6,
   "metadata": {},
   "outputs": [],
   "source": [
    "def get_intent(text):\n",
    "    proba_list = clf.predict_proba(vectorizer.transform([text]))[0]\n",
    "    max_proba = max(proba_list)\n",
    "    print(text, clf.predict(vectorizer.transform([text])), max_proba)\n",
    "    if max_proba > 0.1:\n",
    "        index = list(proba_list).index(max_proba)\n",
    "        return clf.classes_[index]"
   ]
  },
  {
   "cell_type": "code",
   "execution_count": 7,
   "metadata": {},
   "outputs": [],
   "source": [
    "import random"
   ]
  },
  {
   "cell_type": "code",
   "execution_count": 8,
   "metadata": {},
   "outputs": [],
   "source": [
    "def get_response_by_intent(intent):\n",
    "    phrases = BOT_CONFIG['intents'][intent]['responses']\n",
    "    return random.choice(phrases)"
   ]
  },
  {
   "cell_type": "code",
   "execution_count": 9,
   "metadata": {},
   "outputs": [],
   "source": [
    "import nltk"
   ]
  },
  {
   "cell_type": "code",
   "execution_count": 10,
   "metadata": {},
   "outputs": [],
   "source": [
    "with open('dialogues.txt') as f:\n",
    "    content = f.read()\n",
    "\n",
    "blocks = content.split('\\n\\n')\n",
    "\n",
    "def clear_text(text):\n",
    "    text = text.lower()\n",
    "    alphabet = 'абвгдеёжзийклмнопрстуфхцчшщъыьэюя0123456789- '\n",
    "    result = ''\n",
    "    for c in text:\n",
    "        if c in alphabet:\n",
    "            result += c\n",
    "    return result\n",
    "\n",
    "dataset = []\n",
    "questions = set()\n",
    "\n",
    "for block in blocks:\n",
    "    replicas = block.split('\\n')[:2]\n",
    "    if len(replicas) == 2:\n",
    "        question = clear_text(replicas[0][2:])\n",
    "        answer = replicas[1][2:]\n",
    "\n",
    "        if question and answer and question not in questions:\n",
    "            questions.add(question)\n",
    "            dataset.append([question, answer])"
   ]
  },
  {
   "cell_type": "code",
   "execution_count": 11,
   "metadata": {},
   "outputs": [],
   "source": [
    "search_dataset = {}\n",
    "for question, answer in dataset:\n",
    "    words = question.split(' ')\n",
    "    for word in words:\n",
    "        if word not in search_dataset:\n",
    "            search_dataset[word] = []\n",
    "        search_dataset[word].append((question, answer))\n",
    "\n",
    "search_dataset = {\n",
    "    word: word_dataset\n",
    "    for word, word_dataset in search_dataset.items()\n",
    "    if len(word_dataset) < 1000\n",
    "}"
   ]
  },
  {
   "cell_type": "code",
   "execution_count": 12,
   "metadata": {},
   "outputs": [],
   "source": [
    "def get_response_generatively(text):\n",
    "    text = clear_text(text)\n",
    "    if not text:\n",
    "        return\n",
    "    words = text.split(' ')\n",
    "    \n",
    "    words_dataset = set()\n",
    "    for word in words:\n",
    "        if word in search_dataset:\n",
    "            words_dataset |= set(search_dataset[word])\n",
    "\n",
    "    scores = []\n",
    "\n",
    "    for question, answer in words_dataset:\n",
    "        if abs(len(text) - len(question)) / len(question) < 0.4:\n",
    "            distance = nltk.edit_distance(text, question)\n",
    "            score = distance / len(question)\n",
    "            if score < 0.4:\n",
    "                scores.append([score, question, answer])\n",
    "\n",
    "    if scores:\n",
    "        return min(scores, key=lambda s: s[0])[2]"
   ]
  },
  {
   "cell_type": "code",
   "execution_count": 13,
   "metadata": {},
   "outputs": [],
   "source": [
    "# get_response_generatively('скажи свое имя')"
   ]
  },
  {
   "cell_type": "code",
   "execution_count": 14,
   "metadata": {},
   "outputs": [],
   "source": [
    "def get_failure_phrase():\n",
    "    phrases = BOT_CONFIG['failure_phrases']\n",
    "    return random.choice(phrases)"
   ]
  },
  {
   "cell_type": "code",
   "execution_count": 15,
   "metadata": {},
   "outputs": [],
   "source": [
    "stats = {'intent': 0, 'generative': 0, 'fails': 0}"
   ]
  },
  {
   "cell_type": "code",
   "execution_count": 16,
   "metadata": {},
   "outputs": [],
   "source": [
    "def bot(request):\n",
    "    # NLU\n",
    "    intent = get_intent(request)\n",
    "\n",
    "    # Генерация ответа\n",
    "    if intent:\n",
    "        stats['intent'] += 1\n",
    "        return get_response_by_intent(intent)\n",
    "\n",
    "    response = get_response_generatively(request)\n",
    "    if response:\n",
    "        stats['generative'] += 1\n",
    "        return response\n",
    "\n",
    "    stats['fails'] += 1\n",
    "    return get_failure_phrase()"
   ]
  },
  {
   "cell_type": "code",
   "execution_count": 17,
   "metadata": {
    "tags": []
   },
   "outputs": [
    {
     "output_type": "stream",
     "name": "stdout",
     "text": [
      "как тебя зовут? ['country'] 0.04038696056013519\n"
     ]
    },
    {
     "output_type": "execute_result",
     "data": {
      "text/plain": [
       "'ааа?'"
      ]
     },
     "metadata": {},
     "execution_count": 17
    }
   ],
   "source": [
    "bot('как тебя зовут?')"
   ]
  },
  {
   "cell_type": "code",
   "execution_count": 18,
   "metadata": {},
   "outputs": [
    {
     "output_type": "execute_result",
     "data": {
      "text/plain": [
       "{'intent': 0, 'generative': 0, 'fails': 1}"
      ]
     },
     "metadata": {},
     "execution_count": 18
    }
   ],
   "source": [
    "stats"
   ]
  },
  {
   "cell_type": "code",
   "execution_count": null,
   "metadata": {},
   "outputs": [],
   "source": []
  },
  {
   "cell_type": "code",
   "execution_count": 19,
   "metadata": {
    "tags": []
   },
   "outputs": [
    {
     "output_type": "stream",
     "name": "stdout",
     "text": [
      "Requirement already satisfied: python-telegram-bot in ./env/lib/python3.8/site-packages (12.8)\n",
      "Requirement already satisfied: tornado>=5.1 in /Users/andreinovikov/Library/Python/3.8/lib/python/site-packages (from python-telegram-bot) (6.0.4)\n",
      "Requirement already satisfied: decorator>=4.4.0 in /Users/andreinovikov/Library/Python/3.8/lib/python/site-packages (from python-telegram-bot) (4.4.2)\n",
      "Requirement already satisfied: certifi in /Library/Frameworks/Python.framework/Versions/3.8/lib/python3.8/site-packages (from python-telegram-bot) (2020.6.20)\n",
      "Requirement already satisfied: cryptography in ./env/lib/python3.8/site-packages (from python-telegram-bot) (3.1.1)\n",
      "Requirement already satisfied: six>=1.4.1 in /Users/andreinovikov/Library/Python/3.8/lib/python/site-packages (from cryptography->python-telegram-bot) (1.15.0)\n",
      "Requirement already satisfied: cffi!=1.11.3,>=1.8 in ./env/lib/python3.8/site-packages (from cryptography->python-telegram-bot) (1.14.3)\n",
      "Requirement already satisfied: pycparser in ./env/lib/python3.8/site-packages (from cffi!=1.11.3,>=1.8->cryptography->python-telegram-bot) (2.20)\n",
      "\u001b[33mWARNING: You are using pip version 20.1.1; however, version 20.3.3 is available.\n",
      "You should consider upgrading via the '/Users/andreinovikov/Documents/Projects/Python/Chat_Bot/env/bin/python3 -m pip install --upgrade pip' command.\u001b[0m\n"
     ]
    }
   ],
   "source": [
    "! pip install python-telegram-bot"
   ]
  },
  {
   "cell_type": "code",
   "execution_count": null,
   "metadata": {},
   "outputs": [],
   "source": []
  },
  {
   "cell_type": "code",
   "execution_count": 20,
   "metadata": {},
   "outputs": [],
   "source": [
    "from telegram.ext import Updater, CommandHandler, MessageHandler, Filters\n",
    "\n",
    "\n",
    "def start(update, context):\n",
    "    \"\"\"Send a message when the command /start is issued.\"\"\"\n",
    "    update.message.reply_text('Hi!')\n",
    "\n",
    "\n",
    "def help_command(update, context):\n",
    "    \"\"\"Send a message when the command /help is issued.\"\"\"\n",
    "    update.message.reply_text('Help!')\n",
    "\n",
    "\n",
    "def use_bot(update, context):\n",
    "    answer = bot(update.message.text)\n",
    "    update.message.reply_text(answer)\n",
    "    print(update.message.text, answer)\n",
    "    print(stats)\n",
    "    print()\n",
    "\n",
    "\n",
    "def main():\n",
    "    \"\"\"Start the bot.\"\"\"\n",
    "    updater = Updater(\"802782122:AAGthsTSRzEmtXpij3FnDbwz-0gi7oylmh8\", use_context=True)\n",
    "\n",
    "    dp = updater.dispatcher\n",
    "    dp.add_handler(CommandHandler(\"start\", start))\n",
    "    dp.add_handler(CommandHandler(\"help\", help_command))\n",
    "    dp.add_handler(MessageHandler(Filters.text & ~Filters.command, use_bot))\n",
    "\n",
    "    updater.start_polling()\n",
    "    updater.idle()"
   ]
  },
  {
   "cell_type": "code",
   "execution_count": null,
   "metadata": {},
   "outputs": [],
   "source": [
    "main()"
   ]
  },
  {
   "cell_type": "code",
   "execution_count": null,
   "metadata": {},
   "outputs": [],
   "source": []
  },
  {
   "cell_type": "code",
   "execution_count": null,
   "metadata": {},
   "outputs": [],
   "source": []
  }
 ],
 "metadata": {
  "kernelspec": {
   "name": "python3",
   "display_name": "Python 3.8.5 64-bit ('env': venv)",
   "metadata": {
    "interpreter": {
     "hash": "6f95526d8f5876cef343c016a168987846bb727b63f20b7ac65fe8e044522fc9"
    }
   }
  },
  "language_info": {
   "codemirror_mode": {
    "name": "ipython",
    "version": 3
   },
   "file_extension": ".py",
   "mimetype": "text/x-python",
   "name": "python",
   "nbconvert_exporter": "python",
   "pygments_lexer": "ipython3",
   "version": "3.8.5-final"
  }
 },
 "nbformat": 4,
 "nbformat_minor": 4
}